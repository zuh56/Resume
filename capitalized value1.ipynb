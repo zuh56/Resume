{
  "nbformat": 4,
  "nbformat_minor": 0,
  "metadata": {
    "colab": {
      "provenance": [],
      "authorship_tag": "ABX9TyP535de1cxfRulVnu54NIt0",
      "include_colab_link": true
    },
    "kernelspec": {
      "name": "python3",
      "display_name": "Python 3"
    },
    "language_info": {
      "name": "python"
    }
  },
  "cells": [
    {
      "cell_type": "markdown",
      "metadata": {
        "id": "view-in-github",
        "colab_type": "text"
      },
      "source": [
        "<a href=\"https://colab.research.google.com/github/zuh56/Resume/blob/main/capitalized%20value1.ipynb\" target=\"_parent\"><img src=\"https://colab.research.google.com/assets/colab-badge.svg\" alt=\"Open In Colab\"/></a>"
      ]
    },
    {
      "cell_type": "code",
      "execution_count": 10,
      "metadata": {
        "colab": {
          "base_uri": "https://localhost:8080/"
        },
        "id": "tOmtK_41iSeP",
        "outputId": "30d700d8-bfb6-4b09-b122-91b9b2b058de"
      },
      "outputs": [
        {
          "output_type": "stream",
          "name": "stdout",
          "text": [
            "Apple Banana\n"
          ]
        }
      ],
      "source": [
        "def capitalized_values(input_list):\n",
        "  capitalized_list = [Value.capitalized()\n",
        "  for value in input_list]\n",
        "  return capitalized_list\n",
        "input_list = ['apple','banana','cherry','mango','pineapple','papaya']\n",
        "print ('Apple','Banana')\n"
      ]
    }
  ]
}